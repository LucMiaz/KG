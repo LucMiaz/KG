{
 "cells": [
  {
   "cell_type": "code",
   "execution_count": null,
   "metadata": {
    "collapsed": false
   },
   "outputs": [],
   "source": [
    "# your code goes here\n",
    "import math\n",
    "def listofprimes(n):\n",
    "    \"\"\"Takes a integer n and gives the list of primes lower than n\"\"\"\n",
    "    if isinstance(n, int):\n",
    "        plist=[2]\n",
    "        iremoved=False\n",
    "        nlist=[i for i in range(3,n)]\n",
    "        while plist[-1]<= math.sqrt(n):\n",
    "            for i in range(2*plist[-1], n, plist[-1]):\n",
    "                try:\n",
    "                    nlist.remove(i)\n",
    "                except ValueError:\n",
    "                    iremoved=True\n",
    "            plist.append(nlist[0])\n",
    "            del nlist[0]\n",
    "        plist.extend(nlist)\n",
    "        return plist\n",
    "    else:\n",
    "        raise ValueError(\"Not an integer\")\n",
    "\n",
    "def askforint():\n",
    "    n=2\n",
    "    continuer=True\n",
    "    while continuer:\n",
    "        try:\n",
    "            n=int(input(\"Please insert an integer : \"))\n",
    "            continuer=False\n",
    "        except ValueError:\n",
    "            print(\"You did not insert an integer, e.g. 4. Please try again.\")\n",
    "            continuer=True\n",
    "        except NameError:\n",
    "            print(\"What you inserted is not an integer, please try again.\")\n",
    "            continuer=True\n",
    "    return n\n",
    "\n",
    "def Goldbach(n, primes):\n",
    "    if not n%2==0:\n",
    "        raise ValueError(\"Not an even number, can't be tested for Goldback\")\n",
    "    else:\n",
    "        m=n/2\n",
    "        if primes.count(m)>0:\n",
    "            return [m,m,0]\n",
    "        else:\n",
    "            k=m\n",
    "            while k>1 and not (k in primes and m in primes) :\n",
    "                m +=1\n",
    "                k -=1\n",
    "            if not m in primes:\n",
    "                raise KeyError(\"Not match for integer \", n)\n",
    "            else:\n",
    "                return [k,m]\n",
    "def findGoldbach(num):\n",
    "    primes=listofprimes(num)\n",
    "    print(primes)\n",
    "    if num%2==1:\n",
    "        num-=1\n",
    "    Glist=[]\n",
    "    for i in range(4,num,2):\n",
    "        Glist.append(Goldbach(i,primes))\n",
    "    return Glist\n",
    "print(\"Select max value (>4)\")\n",
    "#maxn=askforint()\n",
    "maxn=10000\n",
    "print(\"Thanks\")\n",
    "GG=findGoldbach(maxn)"
   ]
  },
  {
   "cell_type": "code",
   "execution_count": null,
   "metadata": {
    "collapsed": false
   },
   "outputs": [],
   "source": [
    "def histogram(xn, K, display=None, normalize=False):\n",
    "    \"\"\"returns the function histogram of discrete time signal xn with K bins in histogram\"\"\"\n",
    "    N=len(xn)\n",
    "    xmin=min(xn)\n",
    "    xmax=max(xn)\n",
    "    #find min and max values of signal xn\n",
    "    #for n in range(0,N):\n",
    "    #    if xn[n]<xmin:\n",
    "    #        xmin=xn[n]\n",
    "    #    if xn[n]>xmax:\n",
    "    #        xmax=xn[n]\n",
    "    if xmax==xmin:\n",
    "        print(\"xmin=xmax\")\n",
    "        return None\n",
    "    #setting histogram to 0\n",
    "    H=[0 for i in range(0,K)]\n",
    "    for n in range(0,N):\n",
    "        #calculate y(n)=(x(n)-x_min)/(x_max-x_min)\n",
    "        yn=((xn[n]-xmin)/(xmax-xmin))#normalize\n",
    "        #calculate bin index\n",
    "        k=int(K*yn)\n",
    "        #add one to the right bin index\n",
    "        if k<K:\n",
    "            H[k]+=1\n",
    "        else:\n",
    "            H[k-1]+=1\n",
    "    if normalize:\n",
    "        maximum=max(H)\n",
    "        H=[i/maximum for i in H]\n",
    "    if display:\n",
    "        display.bar(range(0,K),H,color='#d8b365',width=0.1)\n",
    "    return H"
   ]
  },
  {
   "cell_type": "code",
   "execution_count": null,
   "metadata": {
    "collapsed": false
   },
   "outputs": [],
   "source": [
    "diff=[]\n",
    "for i in GG:\n",
    "    diff.append((i[1])/(i[0]+i[1]))"
   ]
  },
  {
   "cell_type": "code",
   "execution_count": null,
   "metadata": {
    "collapsed": false
   },
   "outputs": [],
   "source": [
    "%matplotlib inline\n",
    "import matplotlib.pyplot as plt\n",
    "import seaborn as snb\n",
    "import numpy as np\n",
    "plt.hist(diff, 300,color='#d8b365')\n",
    "plt.axis([40, 160, 0, 0.03])\n",
    "plt.grid(True)\n",
    "plt.show()"
   ]
  },
  {
   "cell_type": "code",
   "execution_count": null,
   "metadata": {
    "collapsed": true
   },
   "outputs": [],
   "source": [
    "print(True)"
   ]
  },
  {
   "cell_type": "code",
   "execution_count": null,
   "metadata": {
    "collapsed": true
   },
   "outputs": [],
   "source": []
  }
 ],
 "metadata": {
  "kernelspec": {
   "display_name": "Python 3",
   "language": "python",
   "name": "python3"
  },
  "language_info": {
   "codemirror_mode": {
    "name": "ipython",
    "version": 3
   },
   "file_extension": ".py",
   "mimetype": "text/x-python",
   "name": "python",
   "nbconvert_exporter": "python",
   "pygments_lexer": "ipython3",
   "version": "3.4.1"
  }
 },
 "nbformat": 4,
 "nbformat_minor": 0
}
